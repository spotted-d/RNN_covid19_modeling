{
 "cells": [
  {
   "cell_type": "markdown",
   "metadata": {},
   "source": [
    "# AC209B Final Project\n",
    "## Module E: Predicting COVID-19 Cases\n",
    "- Austin Rochon\n",
    "- Emily Xie\n",
    "- Mark Lock\n",
    "\n",
    "<hr style=\"height:2pt\">"
   ]
  },
  {
   "cell_type": "markdown",
   "metadata": {},
   "source": [
    "## Table of Contents\n",
    "\n",
    "0. [Introduction](#introduction)\n",
    "1. [Data Collection and Cleaning](#data)  \n",
    "    a. [COVID-19 Cases by State](#us_state_covid)\n",
    "    b. [Google Community Mobility Reports](#google_community_reports)  \n",
    "    c. [Google Search Data](#google_search_data)  \n",
    "2. [Modeling](#modeling)"
   ]
  },
  {
   "cell_type": "markdown",
   "metadata": {},
   "source": [
    "<a id='introduction'></a>\n",
    "## Introduction"
   ]
  },
  {
   "cell_type": "markdown",
   "metadata": {},
   "source": [
    "<a id='data'></a>\n",
    "## Data Collection and Cleaning"
   ]
  },
  {
   "cell_type": "markdown",
   "metadata": {},
   "source": [
    "<a id='us_state_covid'></a>\n",
    "## Global COVID-19 Data\n",
    "We'll start by examining the global COVID-19 data provided by [Johns Hopkins University](https://github.com/CSSEGISandData)."
   ]
  }
 ],
 "metadata": {
  "kernelspec": {
   "display_name": "cs109a",
   "language": "python",
   "name": "cs109a"
  },
  "language_info": {
   "codemirror_mode": {
    "name": "ipython",
    "version": 3
   },
   "file_extension": ".py",
   "mimetype": "text/x-python",
   "name": "python",
   "nbconvert_exporter": "python",
   "pygments_lexer": "ipython3",
   "version": "3.7.4"
  }
 },
 "nbformat": 4,
 "nbformat_minor": 2
}
